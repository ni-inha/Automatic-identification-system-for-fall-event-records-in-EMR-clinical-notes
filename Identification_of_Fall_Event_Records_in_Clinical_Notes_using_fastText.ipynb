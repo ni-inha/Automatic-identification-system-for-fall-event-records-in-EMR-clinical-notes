{
  "nbformat": 4,
  "nbformat_minor": 0,
  "metadata": {
    "colab": {
      "provenance": [],
      "collapsed_sections": []
    },
    "kernelspec": {
      "name": "python3",
      "display_name": "Python 3"
    },
    "language_info": {
      "name": "python"
    }
  },
  "cells": [
    {
      "cell_type": "markdown",
      "source": [
        "# Identification of Fall Event Records in Clinical Notes using `fastText`"
      ],
      "metadata": {
        "id": "Eh6W6sOcREuQ"
      }
    },
    {
      "cell_type": "markdown",
      "source": [
        "## Install and Import packages"
      ],
      "metadata": {
        "id": "jwOib5rbRQ0J"
      }
    },
    {
      "cell_type": "code",
      "execution_count": null,
      "metadata": {
        "id": "ETRQ_D8lCbBt",
        "collapsed": true
      },
      "outputs": [],
      "source": [
        "!pip install fasttext"
      ]
    },
    {
      "cell_type": "code",
      "source": [
        "import fasttext\n",
        "import pandas as pd\n",
        "\n",
        "fasttext.FastText.eprint = lambda x: None"
      ],
      "metadata": {
        "id": "rQ7y5yvka3F_"
      },
      "execution_count": null,
      "outputs": []
    },
    {
      "cell_type": "markdown",
      "source": [
        "## Load Datasets"
      ],
      "metadata": {
        "id": "HSDW5Kb3CaVf"
      }
    },
    {
      "cell_type": "code",
      "source": [
        "TRAIN_FILE_NAME = \"train_sets_9538_20231\"\n",
        "TEST_FILE_NAME = \"test_sets_565_14249\""
      ],
      "metadata": {
        "id": "6t7rKkpG4Jdt"
      },
      "execution_count": null,
      "outputs": []
    },
    {
      "cell_type": "code",
      "source": [
        "train_df = pd.read_csv(f'{TRAIN_FILE_NAME}.csv', encoding='utf8')"
      ],
      "metadata": {
        "id": "L2gPlUc0laiv"
      },
      "execution_count": null,
      "outputs": []
    },
    {
      "cell_type": "code",
      "source": [
        "test_df = pd.read_csv(f'{TEST_FILE_NAME}.csv', encoding='utf8')"
      ],
      "metadata": {
        "id": "qL7698EkSYTN"
      },
      "execution_count": null,
      "outputs": []
    },
    {
      "cell_type": "code",
      "source": [
        "dataType = [\"anonym\", \"#ProcessedData\", \"#TokenizedData\", \"translation\"]"
      ],
      "metadata": {
        "id": "RYA0SMf0Rvea"
      },
      "execution_count": null,
      "outputs": []
    },
    {
      "cell_type": "markdown",
      "source": [
        "### Check the Rate of Falls in Datasets"
      ],
      "metadata": {
        "id": "XXQ862FQULFM"
      }
    },
    {
      "cell_type": "code",
      "source": [
        "X_train = train_df[[f\"{dataType[0]}\"]]\n",
        "y_train = train_df['label']\n",
        "\n",
        "X_test = test_df[[f\"{dataType[0]}\"]]\n",
        "y_test = test_df['label']\n",
        "\n",
        "\n",
        "print('----------- Rate of Falls in Train Datasets -----------')\n",
        "print(f'Non-Fall Data (label : 0) = {round(y_train.value_counts()[0]/len(y_train) * 100,3)}%')\n",
        "print(f'    Fall Data (label : 1) = {round(y_train.value_counts()[1]/len(y_train) * 100,3)}%')\n",
        "print()\n",
        "print('----------- Rate of Falls in Test Datasets -----------')\n",
        "print(f'Non-Fall Data (label : 0) = {round(y_test.value_counts()[0]/len(y_test) * 100,3)}%')\n",
        "print(f'    Fall Data (label : 1) = {round(y_test.value_counts()[1]/len(y_test) * 100,3)}%')"
      ],
      "metadata": {
        "id": "sNGYmeXTR8Tl"
      },
      "execution_count": null,
      "outputs": []
    },
    {
      "cell_type": "markdown",
      "source": [
        "## Pre-Processing"
      ],
      "metadata": {
        "id": "5euA_3hfCdKr"
      }
    },
    {
      "cell_type": "markdown",
      "source": [
        "### Remove CRLF"
      ],
      "metadata": {
        "id": "ebOwReORRlq_"
      }
    },
    {
      "cell_type": "code",
      "source": [
        "def remove_CRLF(input_str):\n",
        "  input_str = input_str.replace(\"\\n\", \" \")\n",
        "  input_str = input_str.replace(\"\\\\n\", \" \")\n",
        "  input_str = input_str.replace(\"\\r\", \" \")\n",
        "  input_str = input_str.replace(\"\\\\r\", \" \")\n",
        "\n",
        "  return input_str"
      ],
      "metadata": {
        "id": "VU20jnUABx-J"
      },
      "execution_count": null,
      "outputs": []
    },
    {
      "cell_type": "code",
      "source": [
        "for dataName in dataType:\n",
        "  for i in range(len(train_df)):\n",
        "    train_df[f\"{dataName}\"][i] = remove_CRLF(train_df[f\"{dataName}\"][i])\n",
        "  for j in range(len(test_df)):\n",
        "    test_df[f\"{dataName}\"][j] = remove_CRLF(test_df[f\"{dataName}\"][j])"
      ],
      "metadata": {
        "id": "TW-U0cRwCfXl"
      },
      "execution_count": null,
      "outputs": []
    },
    {
      "cell_type": "markdown",
      "source": [
        "### Generate `.txt` files for training `fastText` model"
      ],
      "metadata": {
        "id": "DmQmBUWgTMhV"
      }
    },
    {
      "cell_type": "code",
      "source": [
        "for dataName in dataType:  \n",
        "  # train\n",
        "  ft_train_df = train_df.copy()\n",
        "  for i in range(len(ft_train_df)):\n",
        "    ft_train_df['label'][i] = \"__label__\" + str(ft_train_df['label'][i])\n",
        "  ft_train_df = ft_train_df[['label', f\"{dataName}\"]]\n",
        "  ft_train_df.to_csv(f\"{TRAIN_FILE_NAME}_{dataName}.txt\", index=False, header=None, sep=\"\\t\")\n",
        "  \n",
        "  # test\n",
        "  ft_test_df = test_df.copy()\n",
        "  for i in range(len(ft_test_df)):\n",
        "    ft_test_df['label'][i] = \"__label__\" + str(ft_test_df['label'][i])\n",
        "  ft_test_df = ft_test_df[['label', f\"{dataName}\"]]\n",
        "  ft_test_df.to_csv(f\"{TEST_FILE_NAME}_{dataName}.txt\", index=False, header=None, sep=\"\\t\")"
      ],
      "metadata": {
        "id": "CTychXMjAbsd"
      },
      "execution_count": null,
      "outputs": []
    },
    {
      "cell_type": "markdown",
      "source": [
        "## Training Model"
      ],
      "metadata": {
        "id": "jD0fWtrSUWxp"
      }
    },
    {
      "cell_type": "code",
      "source": [
        "for dataName in dataType:\n",
        "    model = fasttext.train_supervised(input=f\"{TRAIN_FILE_NAME}_{dataName}.txt\",\n",
        "                                      epoch=100,\n",
        "                                      lr = 1,\n",
        "                                      wordNgrams=2,\n",
        "                                      dim=300,\n",
        "                                      )\n",
        "    \n",
        "    # Saving Model\n",
        "    model.save_model(f\"fastText_Model_{TRAIN_FILE_NAME}_{dataName}.bin\")"
      ],
      "metadata": {
        "id": "tQnC-NxqSbFQ"
      },
      "execution_count": null,
      "outputs": []
    },
    {
      "cell_type": "markdown",
      "source": [
        "## Testing Model"
      ],
      "metadata": {
        "id": "HZbRv4DIYqiQ"
      }
    },
    {
      "cell_type": "code",
      "source": [
        "from sklearn.metrics import precision_score, recall_score, f1_score, accuracy_score, confusion_matrix\n",
        "\n",
        "def print_result(dataName, y_test, predicted):\n",
        "    print(f\"------ Data Type : {dataName} ------\")\n",
        "    print('Precision        : %.4f' % precision_score(y_test, predicted))\n",
        "    print('Recall           : %.4f' % recall_score(y_test, predicted))\n",
        "    print('F1 score         : %.4f' % f1_score(y_test, predicted))\n",
        "    print('Accuracy score   : %.4f' % accuracy_score(y_test, predicted))\n",
        "    print('Confusion Matrix :')\n",
        "    print(confusion_matrix(y_test, predicted))\n",
        "    print()"
      ],
      "metadata": {
        "id": "awEYV2hwVhDS"
      },
      "execution_count": null,
      "outputs": []
    },
    {
      "cell_type": "code",
      "source": [
        "for dataName in dataType:\n",
        "    # Load saved model\n",
        "    model = fasttext.load_model(f\"fastText_Model_{TRAIN_FILE_NAME}_{dataName}.bin\")\n",
        "  \n",
        "    predicted = []\n",
        "    for test in test_df[f\"{dataName}\"]:\n",
        "      predicted.append(int(model.predict(test, k=1)[0][0][9:]))\n",
        "\n",
        "    # Print test result\n",
        "    print_result(dataName, y_test, predicted)"
      ],
      "metadata": {
        "id": "YT6BYOR-JliM"
      },
      "execution_count": null,
      "outputs": []
    },
    {
      "cell_type": "markdown",
      "source": [
        "---\n",
        "## Option) `zip` the entire file"
      ],
      "metadata": {
        "id": "RAtj6UWxZGrw"
      }
    },
    {
      "cell_type": "code",
      "source": [
        "!zip datasets_and_fastText_model.zip *"
      ],
      "metadata": {
        "id": "he3yIgzgOA2L"
      },
      "execution_count": null,
      "outputs": []
    }
  ]
}